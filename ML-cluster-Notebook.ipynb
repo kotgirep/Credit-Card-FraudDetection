{
 "cells": [
  {
   "cell_type": "code",
   "execution_count": 155,
   "id": "69a122ca",
   "metadata": {},
   "outputs": [],
   "source": [
    "import pandas as pd\n",
    "import numpy as np\n",
    "import seaborn as sns\n",
    "import seaborn as sns\n",
    "import matplotlib.pyplot as plt\n",
    "import boto3\n",
    "import sagemaker\n",
    "session = sagemaker.Session()\n",
    "from sagemaker.tuner import ContinuousParameter as cp\n",
    "from sagemaker.tuner import IntegerParameter as ip\n",
    "from sagemaker.tuner import HyperparameterTuner"
   ]
  },
  {
   "cell_type": "code",
   "execution_count": 112,
   "id": "b2d024b4",
   "metadata": {},
   "outputs": [],
   "source": [
    "df = pd.read_csv(\"s3://fraudcredit-dataset/data/train.csv\")"
   ]
  },
  {
   "cell_type": "markdown",
   "id": "162b5612",
   "metadata": {},
   "source": [
    "## Data Discovery"
   ]
  },
  {
   "cell_type": "markdown",
   "id": "bbf1e59f",
   "metadata": {},
   "source": [
    "- Time is the time of any transaction from first transaction\n",
    "- V1-V28 are features obtained after PCA, so exact knowlwdge of these features are not known.\n",
    "- Amount is amount pertaining to each transation\n",
    "- Class depicts the fraud mark, if its 0 then its a non frauduelent transaction else fraudulent."
   ]
  },
  {
   "cell_type": "code",
   "execution_count": 35,
   "id": "e37cd26f",
   "metadata": {},
   "outputs": [
    {
     "data": {
      "text/html": [
       "<div>\n",
       "<style scoped>\n",
       "    .dataframe tbody tr th:only-of-type {\n",
       "        vertical-align: middle;\n",
       "    }\n",
       "\n",
       "    .dataframe tbody tr th {\n",
       "        vertical-align: top;\n",
       "    }\n",
       "\n",
       "    .dataframe thead th {\n",
       "        text-align: right;\n",
       "    }\n",
       "</style>\n",
       "<table border=\"1\" class=\"dataframe\">\n",
       "  <thead>\n",
       "    <tr style=\"text-align: right;\">\n",
       "      <th></th>\n",
       "      <th>Time</th>\n",
       "      <th>V1</th>\n",
       "      <th>V2</th>\n",
       "      <th>V3</th>\n",
       "      <th>V4</th>\n",
       "      <th>V5</th>\n",
       "      <th>V6</th>\n",
       "      <th>V7</th>\n",
       "      <th>V8</th>\n",
       "      <th>V9</th>\n",
       "      <th>...</th>\n",
       "      <th>V21</th>\n",
       "      <th>V22</th>\n",
       "      <th>V23</th>\n",
       "      <th>V24</th>\n",
       "      <th>V25</th>\n",
       "      <th>V26</th>\n",
       "      <th>V27</th>\n",
       "      <th>V28</th>\n",
       "      <th>Amount</th>\n",
       "      <th>Class</th>\n",
       "    </tr>\n",
       "  </thead>\n",
       "  <tbody>\n",
       "    <tr>\n",
       "      <th>0</th>\n",
       "      <td>0.0</td>\n",
       "      <td>-1.359807</td>\n",
       "      <td>-0.072781</td>\n",
       "      <td>2.536347</td>\n",
       "      <td>1.378155</td>\n",
       "      <td>-0.338321</td>\n",
       "      <td>0.462388</td>\n",
       "      <td>0.239599</td>\n",
       "      <td>0.098698</td>\n",
       "      <td>0.363787</td>\n",
       "      <td>...</td>\n",
       "      <td>-0.018307</td>\n",
       "      <td>0.277838</td>\n",
       "      <td>-0.110474</td>\n",
       "      <td>0.066928</td>\n",
       "      <td>0.128539</td>\n",
       "      <td>-0.189115</td>\n",
       "      <td>0.133558</td>\n",
       "      <td>-0.021053</td>\n",
       "      <td>149.62</td>\n",
       "      <td>0</td>\n",
       "    </tr>\n",
       "    <tr>\n",
       "      <th>1</th>\n",
       "      <td>0.0</td>\n",
       "      <td>1.191857</td>\n",
       "      <td>0.266151</td>\n",
       "      <td>0.166480</td>\n",
       "      <td>0.448154</td>\n",
       "      <td>0.060018</td>\n",
       "      <td>-0.082361</td>\n",
       "      <td>-0.078803</td>\n",
       "      <td>0.085102</td>\n",
       "      <td>-0.255425</td>\n",
       "      <td>...</td>\n",
       "      <td>-0.225775</td>\n",
       "      <td>-0.638672</td>\n",
       "      <td>0.101288</td>\n",
       "      <td>-0.339846</td>\n",
       "      <td>0.167170</td>\n",
       "      <td>0.125895</td>\n",
       "      <td>-0.008983</td>\n",
       "      <td>0.014724</td>\n",
       "      <td>2.69</td>\n",
       "      <td>0</td>\n",
       "    </tr>\n",
       "    <tr>\n",
       "      <th>2</th>\n",
       "      <td>1.0</td>\n",
       "      <td>-1.358354</td>\n",
       "      <td>-1.340163</td>\n",
       "      <td>1.773209</td>\n",
       "      <td>0.379780</td>\n",
       "      <td>-0.503198</td>\n",
       "      <td>1.800499</td>\n",
       "      <td>0.791461</td>\n",
       "      <td>0.247676</td>\n",
       "      <td>-1.514654</td>\n",
       "      <td>...</td>\n",
       "      <td>0.247998</td>\n",
       "      <td>0.771679</td>\n",
       "      <td>0.909412</td>\n",
       "      <td>-0.689281</td>\n",
       "      <td>-0.327642</td>\n",
       "      <td>-0.139097</td>\n",
       "      <td>-0.055353</td>\n",
       "      <td>-0.059752</td>\n",
       "      <td>378.66</td>\n",
       "      <td>0</td>\n",
       "    </tr>\n",
       "    <tr>\n",
       "      <th>3</th>\n",
       "      <td>1.0</td>\n",
       "      <td>-0.966272</td>\n",
       "      <td>-0.185226</td>\n",
       "      <td>1.792993</td>\n",
       "      <td>-0.863291</td>\n",
       "      <td>-0.010309</td>\n",
       "      <td>1.247203</td>\n",
       "      <td>0.237609</td>\n",
       "      <td>0.377436</td>\n",
       "      <td>-1.387024</td>\n",
       "      <td>...</td>\n",
       "      <td>-0.108300</td>\n",
       "      <td>0.005274</td>\n",
       "      <td>-0.190321</td>\n",
       "      <td>-1.175575</td>\n",
       "      <td>0.647376</td>\n",
       "      <td>-0.221929</td>\n",
       "      <td>0.062723</td>\n",
       "      <td>0.061458</td>\n",
       "      <td>123.50</td>\n",
       "      <td>0</td>\n",
       "    </tr>\n",
       "    <tr>\n",
       "      <th>4</th>\n",
       "      <td>2.0</td>\n",
       "      <td>-1.158233</td>\n",
       "      <td>0.877737</td>\n",
       "      <td>1.548718</td>\n",
       "      <td>0.403034</td>\n",
       "      <td>-0.407193</td>\n",
       "      <td>0.095921</td>\n",
       "      <td>0.592941</td>\n",
       "      <td>-0.270533</td>\n",
       "      <td>0.817739</td>\n",
       "      <td>...</td>\n",
       "      <td>-0.009431</td>\n",
       "      <td>0.798278</td>\n",
       "      <td>-0.137458</td>\n",
       "      <td>0.141267</td>\n",
       "      <td>-0.206010</td>\n",
       "      <td>0.502292</td>\n",
       "      <td>0.219422</td>\n",
       "      <td>0.215153</td>\n",
       "      <td>69.99</td>\n",
       "      <td>0</td>\n",
       "    </tr>\n",
       "  </tbody>\n",
       "</table>\n",
       "<p>5 rows × 31 columns</p>\n",
       "</div>"
      ],
      "text/plain": [
       "   Time        V1        V2        V3        V4        V5        V6        V7  \\\n",
       "0   0.0 -1.359807 -0.072781  2.536347  1.378155 -0.338321  0.462388  0.239599   \n",
       "1   0.0  1.191857  0.266151  0.166480  0.448154  0.060018 -0.082361 -0.078803   \n",
       "2   1.0 -1.358354 -1.340163  1.773209  0.379780 -0.503198  1.800499  0.791461   \n",
       "3   1.0 -0.966272 -0.185226  1.792993 -0.863291 -0.010309  1.247203  0.237609   \n",
       "4   2.0 -1.158233  0.877737  1.548718  0.403034 -0.407193  0.095921  0.592941   \n",
       "\n",
       "         V8        V9  ...       V21       V22       V23       V24       V25  \\\n",
       "0  0.098698  0.363787  ... -0.018307  0.277838 -0.110474  0.066928  0.128539   \n",
       "1  0.085102 -0.255425  ... -0.225775 -0.638672  0.101288 -0.339846  0.167170   \n",
       "2  0.247676 -1.514654  ...  0.247998  0.771679  0.909412 -0.689281 -0.327642   \n",
       "3  0.377436 -1.387024  ... -0.108300  0.005274 -0.190321 -1.175575  0.647376   \n",
       "4 -0.270533  0.817739  ... -0.009431  0.798278 -0.137458  0.141267 -0.206010   \n",
       "\n",
       "        V26       V27       V28  Amount  Class  \n",
       "0 -0.189115  0.133558 -0.021053  149.62      0  \n",
       "1  0.125895 -0.008983  0.014724    2.69      0  \n",
       "2 -0.139097 -0.055353 -0.059752  378.66      0  \n",
       "3 -0.221929  0.062723  0.061458  123.50      0  \n",
       "4  0.502292  0.219422  0.215153   69.99      0  \n",
       "\n",
       "[5 rows x 31 columns]"
      ]
     },
     "execution_count": 35,
     "metadata": {},
     "output_type": "execute_result"
    }
   ],
   "source": [
    "df.head()"
   ]
  },
  {
   "cell_type": "markdown",
   "id": "6708676a",
   "metadata": {},
   "source": [
    "- NA values Check"
   ]
  },
  {
   "cell_type": "code",
   "execution_count": 37,
   "id": "5835b969",
   "metadata": {},
   "outputs": [
    {
     "data": {
      "text/plain": [
       "Time      0\n",
       "V1        0\n",
       "V2        0\n",
       "V3        0\n",
       "V4        0\n",
       "V5        0\n",
       "V6        0\n",
       "V7        0\n",
       "V8        0\n",
       "V9        0\n",
       "V10       0\n",
       "V11       0\n",
       "V12       0\n",
       "V13       0\n",
       "V14       0\n",
       "V15       0\n",
       "V16       0\n",
       "V17       0\n",
       "V18       0\n",
       "V19       0\n",
       "V20       0\n",
       "V21       0\n",
       "V22       0\n",
       "V23       0\n",
       "V24       0\n",
       "V25       0\n",
       "V26       0\n",
       "V27       0\n",
       "V28       0\n",
       "Amount    0\n",
       "Class     0\n",
       "dtype: int64"
      ]
     },
     "execution_count": 37,
     "metadata": {},
     "output_type": "execute_result"
    }
   ],
   "source": [
    "df.isna().sum()"
   ]
  },
  {
   "cell_type": "markdown",
   "id": "c190b42b",
   "metadata": {},
   "source": [
    "- We can see that class is highly imbalanced, hence we need to balance it with either oversampling or undersampling"
   ]
  },
  {
   "cell_type": "code",
   "execution_count": 4,
   "id": "c1e761c9",
   "metadata": {},
   "outputs": [
    {
     "data": {
      "text/plain": [
       "0    226581\n",
       "1       417\n",
       "Name: Class, dtype: int64"
      ]
     },
     "execution_count": 4,
     "metadata": {},
     "output_type": "execute_result"
    }
   ],
   "source": [
    "df['Class'].value_counts()"
   ]
  },
  {
   "cell_type": "markdown",
   "id": "51d6bbdb",
   "metadata": {},
   "source": [
    "- Plot of Time Vs Amount, We can see fraud transactions occurred with lower amounts, mostly lesser than 2500."
   ]
  },
  {
   "cell_type": "code",
   "execution_count": 55,
   "id": "66b151ca",
   "metadata": {},
   "outputs": [
    {
     "data": {
      "text/plain": [
       "<matplotlib.legend.Legend at 0x7f0b30c4c710>"
      ]
     },
     "execution_count": 55,
     "metadata": {},
     "output_type": "execute_result"
    },
    {
     "data": {
      "image/png": "[encoded data removed]",
      "text/plain": [
       "<Figure size 432x288 with 1 Axes>"
      ]
     },
     "metadata": {
      "needs_background": "light"
     },
     "output_type": "display_data"
    }
   ],
   "source": [
    "plt.plot(df.loc[df['Class'] == 0, 'Time'], df.loc[df['Class'] == 0, 'Amount'],label = 'Class 0')\n",
    "plt.plot(df.loc[df['Class'] == 1, 'Time'], df.loc[df['Class'] == 1, 'Amount'],label = 'Class 1')\n",
    "plt.legend()"
   ]
  },
  {
   "cell_type": "markdown",
   "id": "547b9cbd",
   "metadata": {},
   "source": [
    "- Mean amount in fraud class is higher"
   ]
  },
  {
   "cell_type": "code",
   "execution_count": 69,
   "id": "c5a9a948",
   "metadata": {},
   "outputs": [
    {
     "data": {
      "text/html": [
       "<div>\n",
       "<style scoped>\n",
       "    .dataframe tbody tr th:only-of-type {\n",
       "        vertical-align: middle;\n",
       "    }\n",
       "\n",
       "    .dataframe tbody tr th {\n",
       "        vertical-align: top;\n",
       "    }\n",
       "\n",
       "    .dataframe thead th {\n",
       "        text-align: right;\n",
       "    }\n",
       "</style>\n",
       "<table border=\"1\" class=\"dataframe\">\n",
       "  <thead>\n",
       "    <tr style=\"text-align: right;\">\n",
       "      <th></th>\n",
       "      <th>Amount</th>\n",
       "    </tr>\n",
       "    <tr>\n",
       "      <th>Class</th>\n",
       "      <th></th>\n",
       "    </tr>\n",
       "  </thead>\n",
       "  <tbody>\n",
       "    <tr>\n",
       "      <th>0</th>\n",
       "      <td>90.782605</td>\n",
       "    </tr>\n",
       "    <tr>\n",
       "      <th>1</th>\n",
       "      <td>125.656379</td>\n",
       "    </tr>\n",
       "  </tbody>\n",
       "</table>\n",
       "</div>"
      ],
      "text/plain": [
       "           Amount\n",
       "Class            \n",
       "0       90.782605\n",
       "1      125.656379"
      ]
     },
     "execution_count": 69,
     "metadata": {},
     "output_type": "execute_result"
    }
   ],
   "source": [
    "df[['Class','Amount']].groupby(['Class']).mean()"
   ]
  },
  {
   "cell_type": "markdown",
   "id": "4ab12ae9",
   "metadata": {},
   "source": [
    "- Lets see the distribution of amount with class"
   ]
  },
  {
   "cell_type": "code",
   "execution_count": 61,
   "id": "50266bc9",
   "metadata": {},
   "outputs": [
    {
     "data": {
      "text/plain": [
       "(0.0, 2000.0)"
      ]
     },
     "execution_count": 61,
     "metadata": {},
     "output_type": "execute_result"
    },
    {
     "data": {
      "image/png": "[encoded data removed]",
      "text/plain": [
       "<Figure size 402.375x360 with 1 Axes>"
      ]
     },
     "metadata": {
      "needs_background": "light"
     },
     "output_type": "display_data"
    }
   ],
   "source": [
    "sns.displot(df, x=\"Amount\", hue=\"Class\", kind=\"kde\")\n",
    "plt.xlim(0, 2000)"
   ]
  },
  {
   "cell_type": "markdown",
   "id": "56c37e1e",
   "metadata": {},
   "source": [
    "- Let's see class label 1 seperately\n",
    "- We can see that more or less fraud transactions are between 0-1000 with mean of ~120"
   ]
  },
  {
   "cell_type": "code",
   "execution_count": 64,
   "id": "738ddabc",
   "metadata": {},
   "outputs": [
    {
     "data": {
      "text/plain": [
       "(0.0, 2000.0)"
      ]
     },
     "execution_count": 64,
     "metadata": {},
     "output_type": "execute_result"
    },
    {
     "data": {
      "image/png": "[encoded data removed]",
      "text/plain": [
       "<Figure size 402.375x360 with 1 Axes>"
      ]
     },
     "metadata": {
      "needs_background": "light"
     },
     "output_type": "display_data"
    }
   ],
   "source": [
    "sns.displot(df.loc[df['Class'] == 1], x=\"Amount\", hue=\"Class\", kind=\"kde\")\n",
    "plt.xlim(0, 2000)"
   ]
  },
  {
   "cell_type": "code",
   "execution_count": 234,
   "id": "ecf160b6",
   "metadata": {},
   "outputs": [
    {
     "data": {
      "text/html": [
       "<div>\n",
       "<style scoped>\n",
       "    .dataframe tbody tr th:only-of-type {\n",
       "        vertical-align: middle;\n",
       "    }\n",
       "\n",
       "    .dataframe tbody tr th {\n",
       "        vertical-align: top;\n",
       "    }\n",
       "\n",
       "    .dataframe thead th {\n",
       "        text-align: right;\n",
       "    }\n",
       "</style>\n",
       "<table border=\"1\" class=\"dataframe\">\n",
       "  <thead>\n",
       "    <tr style=\"text-align: right;\">\n",
       "      <th></th>\n",
       "      <th>Time</th>\n",
       "      <th>V1</th>\n",
       "      <th>V2</th>\n",
       "      <th>V3</th>\n",
       "      <th>V4</th>\n",
       "      <th>V5</th>\n",
       "      <th>V6</th>\n",
       "      <th>V7</th>\n",
       "      <th>V8</th>\n",
       "      <th>V9</th>\n",
       "      <th>...</th>\n",
       "      <th>V21</th>\n",
       "      <th>V22</th>\n",
       "      <th>V23</th>\n",
       "      <th>V24</th>\n",
       "      <th>V25</th>\n",
       "      <th>V26</th>\n",
       "      <th>V27</th>\n",
       "      <th>V28</th>\n",
       "      <th>Amount</th>\n",
       "      <th>Class</th>\n",
       "    </tr>\n",
       "  </thead>\n",
       "  <tbody>\n",
       "    <tr>\n",
       "      <th>0</th>\n",
       "      <td>0.0</td>\n",
       "      <td>-1.359807</td>\n",
       "      <td>-0.072781</td>\n",
       "      <td>2.536347</td>\n",
       "      <td>1.378155</td>\n",
       "      <td>-0.338321</td>\n",
       "      <td>0.462388</td>\n",
       "      <td>0.239599</td>\n",
       "      <td>0.098698</td>\n",
       "      <td>0.363787</td>\n",
       "      <td>...</td>\n",
       "      <td>-0.018307</td>\n",
       "      <td>0.277838</td>\n",
       "      <td>-0.110474</td>\n",
       "      <td>0.066928</td>\n",
       "      <td>0.128539</td>\n",
       "      <td>-0.189115</td>\n",
       "      <td>0.133558</td>\n",
       "      <td>-0.021053</td>\n",
       "      <td>149.62</td>\n",
       "      <td>0</td>\n",
       "    </tr>\n",
       "    <tr>\n",
       "      <th>1</th>\n",
       "      <td>0.0</td>\n",
       "      <td>1.191857</td>\n",
       "      <td>0.266151</td>\n",
       "      <td>0.166480</td>\n",
       "      <td>0.448154</td>\n",
       "      <td>0.060018</td>\n",
       "      <td>-0.082361</td>\n",
       "      <td>-0.078803</td>\n",
       "      <td>0.085102</td>\n",
       "      <td>-0.255425</td>\n",
       "      <td>...</td>\n",
       "      <td>-0.225775</td>\n",
       "      <td>-0.638672</td>\n",
       "      <td>0.101288</td>\n",
       "      <td>-0.339846</td>\n",
       "      <td>0.167170</td>\n",
       "      <td>0.125895</td>\n",
       "      <td>-0.008983</td>\n",
       "      <td>0.014724</td>\n",
       "      <td>2.69</td>\n",
       "      <td>0</td>\n",
       "    </tr>\n",
       "    <tr>\n",
       "      <th>2</th>\n",
       "      <td>1.0</td>\n",
       "      <td>-1.358354</td>\n",
       "      <td>-1.340163</td>\n",
       "      <td>1.773209</td>\n",
       "      <td>0.379780</td>\n",
       "      <td>-0.503198</td>\n",
       "      <td>1.800499</td>\n",
       "      <td>0.791461</td>\n",
       "      <td>0.247676</td>\n",
       "      <td>-1.514654</td>\n",
       "      <td>...</td>\n",
       "      <td>0.247998</td>\n",
       "      <td>0.771679</td>\n",
       "      <td>0.909412</td>\n",
       "      <td>-0.689281</td>\n",
       "      <td>-0.327642</td>\n",
       "      <td>-0.139097</td>\n",
       "      <td>-0.055353</td>\n",
       "      <td>-0.059752</td>\n",
       "      <td>378.66</td>\n",
       "      <td>0</td>\n",
       "    </tr>\n",
       "    <tr>\n",
       "      <th>3</th>\n",
       "      <td>1.0</td>\n",
       "      <td>-0.966272</td>\n",
       "      <td>-0.185226</td>\n",
       "      <td>1.792993</td>\n",
       "      <td>-0.863291</td>\n",
       "      <td>-0.010309</td>\n",
       "      <td>1.247203</td>\n",
       "      <td>0.237609</td>\n",
       "      <td>0.377436</td>\n",
       "      <td>-1.387024</td>\n",
       "      <td>...</td>\n",
       "      <td>-0.108300</td>\n",
       "      <td>0.005274</td>\n",
       "      <td>-0.190321</td>\n",
       "      <td>-1.175575</td>\n",
       "      <td>0.647376</td>\n",
       "      <td>-0.221929</td>\n",
       "      <td>0.062723</td>\n",
       "      <td>0.061458</td>\n",
       "      <td>123.50</td>\n",
       "      <td>0</td>\n",
       "    </tr>\n",
       "    <tr>\n",
       "      <th>4</th>\n",
       "      <td>2.0</td>\n",
       "      <td>-1.158233</td>\n",
       "      <td>0.877737</td>\n",
       "      <td>1.548718</td>\n",
       "      <td>0.403034</td>\n",
       "      <td>-0.407193</td>\n",
       "      <td>0.095921</td>\n",
       "      <td>0.592941</td>\n",
       "      <td>-0.270533</td>\n",
       "      <td>0.817739</td>\n",
       "      <td>...</td>\n",
       "      <td>-0.009431</td>\n",
       "      <td>0.798278</td>\n",
       "      <td>-0.137458</td>\n",
       "      <td>0.141267</td>\n",
       "      <td>-0.206010</td>\n",
       "      <td>0.502292</td>\n",
       "      <td>0.219422</td>\n",
       "      <td>0.215153</td>\n",
       "      <td>69.99</td>\n",
       "      <td>0</td>\n",
       "    </tr>\n",
       "    <tr>\n",
       "      <th>...</th>\n",
       "      <td>...</td>\n",
       "      <td>...</td>\n",
       "      <td>...</td>\n",
       "      <td>...</td>\n",
       "      <td>...</td>\n",
       "      <td>...</td>\n",
       "      <td>...</td>\n",
       "      <td>...</td>\n",
       "      <td>...</td>\n",
       "      <td>...</td>\n",
       "      <td>...</td>\n",
       "      <td>...</td>\n",
       "      <td>...</td>\n",
       "      <td>...</td>\n",
       "      <td>...</td>\n",
       "      <td>...</td>\n",
       "      <td>...</td>\n",
       "      <td>...</td>\n",
       "      <td>...</td>\n",
       "      <td>...</td>\n",
       "      <td>...</td>\n",
       "    </tr>\n",
       "    <tr>\n",
       "      <th>226993</th>\n",
       "      <td>144892.0</td>\n",
       "      <td>2.025408</td>\n",
       "      <td>-0.182197</td>\n",
       "      <td>-3.124741</td>\n",
       "      <td>-0.351013</td>\n",
       "      <td>2.606837</td>\n",
       "      <td>3.283100</td>\n",
       "      <td>-0.567525</td>\n",
       "      <td>0.834910</td>\n",
       "      <td>0.678313</td>\n",
       "      <td>...</td>\n",
       "      <td>-0.037280</td>\n",
       "      <td>0.099739</td>\n",
       "      <td>0.080699</td>\n",
       "      <td>0.631398</td>\n",
       "      <td>0.127218</td>\n",
       "      <td>0.660080</td>\n",
       "      <td>-0.021093</td>\n",
       "      <td>-0.037461</td>\n",
       "      <td>1.00</td>\n",
       "      <td>0</td>\n",
       "    </tr>\n",
       "    <tr>\n",
       "      <th>226994</th>\n",
       "      <td>144892.0</td>\n",
       "      <td>2.121869</td>\n",
       "      <td>-1.316519</td>\n",
       "      <td>-0.760738</td>\n",
       "      <td>-1.053932</td>\n",
       "      <td>-0.918447</td>\n",
       "      <td>0.342454</td>\n",
       "      <td>-1.398621</td>\n",
       "      <td>0.273090</td>\n",
       "      <td>0.358644</td>\n",
       "      <td>...</td>\n",
       "      <td>0.404450</td>\n",
       "      <td>1.102384</td>\n",
       "      <td>0.031410</td>\n",
       "      <td>0.096616</td>\n",
       "      <td>-0.095076</td>\n",
       "      <td>-0.000199</td>\n",
       "      <td>-0.004976</td>\n",
       "      <td>-0.057101</td>\n",
       "      <td>32.79</td>\n",
       "      <td>0</td>\n",
       "    </tr>\n",
       "    <tr>\n",
       "      <th>226995</th>\n",
       "      <td>144893.0</td>\n",
       "      <td>2.029820</td>\n",
       "      <td>-0.089251</td>\n",
       "      <td>-1.384575</td>\n",
       "      <td>0.501001</td>\n",
       "      <td>-0.023316</td>\n",
       "      <td>-0.654838</td>\n",
       "      <td>-0.311700</td>\n",
       "      <td>-0.015501</td>\n",
       "      <td>1.014736</td>\n",
       "      <td>...</td>\n",
       "      <td>-0.092163</td>\n",
       "      <td>-0.174977</td>\n",
       "      <td>0.248592</td>\n",
       "      <td>0.560063</td>\n",
       "      <td>-0.271976</td>\n",
       "      <td>0.421233</td>\n",
       "      <td>-0.042939</td>\n",
       "      <td>-0.024141</td>\n",
       "      <td>2.99</td>\n",
       "      <td>0</td>\n",
       "    </tr>\n",
       "    <tr>\n",
       "      <th>226996</th>\n",
       "      <td>144893.0</td>\n",
       "      <td>-1.229480</td>\n",
       "      <td>3.273274</td>\n",
       "      <td>-1.887468</td>\n",
       "      <td>4.860818</td>\n",
       "      <td>-0.068843</td>\n",
       "      <td>-0.493099</td>\n",
       "      <td>-0.271717</td>\n",
       "      <td>1.065829</td>\n",
       "      <td>-1.263195</td>\n",
       "      <td>...</td>\n",
       "      <td>-0.406868</td>\n",
       "      <td>-1.157435</td>\n",
       "      <td>0.325132</td>\n",
       "      <td>-0.377445</td>\n",
       "      <td>-0.592161</td>\n",
       "      <td>0.020644</td>\n",
       "      <td>-0.197684</td>\n",
       "      <td>-0.154466</td>\n",
       "      <td>6.03</td>\n",
       "      <td>0</td>\n",
       "    </tr>\n",
       "    <tr>\n",
       "      <th>226997</th>\n",
       "      <td>144893.0</td>\n",
       "      <td>0.052487</td>\n",
       "      <td>0.594493</td>\n",
       "      <td>-1.644070</td>\n",
       "      <td>-2.598380</td>\n",
       "      <td>1.348769</td>\n",
       "      <td>-1.551561</td>\n",
       "      <td>1.958686</td>\n",
       "      <td>-1.153776</td>\n",
       "      <td>-0.619102</td>\n",
       "      <td>...</td>\n",
       "      <td>0.446481</td>\n",
       "      <td>2.242131</td>\n",
       "      <td>-0.258631</td>\n",
       "      <td>-0.244844</td>\n",
       "      <td>-0.890863</td>\n",
       "      <td>-0.201913</td>\n",
       "      <td>0.346052</td>\n",
       "      <td>-0.102205</td>\n",
       "      <td>20.00</td>\n",
       "      <td>0</td>\n",
       "    </tr>\n",
       "  </tbody>\n",
       "</table>\n",
       "<p>226998 rows × 31 columns</p>\n",
       "</div>"
      ],
      "text/plain": [
       "            Time        V1        V2        V3        V4        V5        V6  \\\n",
       "0            0.0 -1.359807 -0.072781  2.536347  1.378155 -0.338321  0.462388   \n",
       "1            0.0  1.191857  0.266151  0.166480  0.448154  0.060018 -0.082361   \n",
       "2            1.0 -1.358354 -1.340163  1.773209  0.379780 -0.503198  1.800499   \n",
       "3            1.0 -0.966272 -0.185226  1.792993 -0.863291 -0.010309  1.247203   \n",
       "4            2.0 -1.158233  0.877737  1.548718  0.403034 -0.407193  0.095921   \n",
       "...          ...       ...       ...       ...       ...       ...       ...   \n",
       "226993  144892.0  2.025408 -0.182197 -3.124741 -0.351013  2.606837  3.283100   \n",
       "226994  144892.0  2.121869 -1.316519 -0.760738 -1.053932 -0.918447  0.342454   \n",
       "226995  144893.0  2.029820 -0.089251 -1.384575  0.501001 -0.023316 -0.654838   \n",
       "226996  144893.0 -1.229480  3.273274 -1.887468  4.860818 -0.068843 -0.493099   \n",
       "226997  144893.0  0.052487  0.594493 -1.644070 -2.598380  1.348769 -1.551561   \n",
       "\n",
       "              V7        V8        V9  ...       V21       V22       V23  \\\n",
       "0       0.239599  0.098698  0.363787  ... -0.018307  0.277838 -0.110474   \n",
       "1      -0.078803  0.085102 -0.255425  ... -0.225775 -0.638672  0.101288   \n",
       "2       0.791461  0.247676 -1.514654  ...  0.247998  0.771679  0.909412   \n",
       "3       0.237609  0.377436 -1.387024  ... -0.108300  0.005274 -0.190321   \n",
       "4       0.592941 -0.270533  0.817739  ... -0.009431  0.798278 -0.137458   \n",
       "...          ...       ...       ...  ...       ...       ...       ...   \n",
       "226993 -0.567525  0.834910  0.678313  ... -0.037280  0.099739  0.080699   \n",
       "226994 -1.398621  0.273090  0.358644  ...  0.404450  1.102384  0.031410   \n",
       "226995 -0.311700 -0.015501  1.014736  ... -0.092163 -0.174977  0.248592   \n",
       "226996 -0.271717  1.065829 -1.263195  ... -0.406868 -1.157435  0.325132   \n",
       "226997  1.958686 -1.153776 -0.619102  ...  0.446481  2.242131 -0.258631   \n",
       "\n",
       "             V24       V25       V26       V27       V28  Amount  Class  \n",
       "0       0.066928  0.128539 -0.189115  0.133558 -0.021053  149.62      0  \n",
       "1      -0.339846  0.167170  0.125895 -0.008983  0.014724    2.69      0  \n",
       "2      -0.689281 -0.327642 -0.139097 -0.055353 -0.059752  378.66      0  \n",
       "3      -1.175575  0.647376 -0.221929  0.062723  0.061458  123.50      0  \n",
       "4       0.141267 -0.206010  0.502292  0.219422  0.215153   69.99      0  \n",
       "...          ...       ...       ...       ...       ...     ...    ...  \n",
       "226993  0.631398  0.127218  0.660080 -0.021093 -0.037461    1.00      0  \n",
       "226994  0.096616 -0.095076 -0.000199 -0.004976 -0.057101   32.79      0  \n",
       "226995  0.560063 -0.271976  0.421233 -0.042939 -0.024141    2.99      0  \n",
       "226996 -0.377445 -0.592161  0.020644 -0.197684 -0.154466    6.03      0  \n",
       "226997 -0.244844 -0.890863 -0.201913  0.346052 -0.102205   20.00      0  \n",
       "\n",
       "[226998 rows x 31 columns]"
      ]
     },
     "execution_count": 234,
     "metadata": {},
     "output_type": "execute_result"
    }
   ],
   "source": [
    "df"
   ]
  },
  {
   "cell_type": "code",
   "execution_count": 247,
   "id": "5a63a1ea",
   "metadata": {},
   "outputs": [],
   "source": [
    "l1 = [[x+i for x in list(df.loc[(df['Class'] == 1) & (df['Amount'] != 0)].index)] for i in range(0,6)]"
   ]
  },
  {
   "cell_type": "code",
   "execution_count": 255,
   "id": "b13a9938",
   "metadata": {},
   "outputs": [],
   "source": [
    "fraud_list = list(df.loc[(df['Class'] == 1) & (df['Amount'] != 0)].index)"
   ]
  },
  {
   "cell_type": "code",
   "execution_count": 251,
   "id": "d7371e1e",
   "metadata": {},
   "outputs": [],
   "source": [
    "l2 = sorted(set([item for sublist in l1 for item in sublist]))"
   ]
  },
  {
   "cell_type": "code",
   "execution_count": 256,
   "id": "c54774d2",
   "metadata": {},
   "outputs": [],
   "source": [
    "list_nearby_transaction = [i for i in l2 if i not in fraud_list]"
   ]
  },
  {
   "cell_type": "code",
   "execution_count": 258,
   "id": "55f23935",
   "metadata": {},
   "outputs": [],
   "source": [
    "df_vicinity = df.loc[list_nearby_transaction]"
   ]
  },
  {
   "cell_type": "markdown",
   "id": "cbe73ef4",
   "metadata": {},
   "source": [
    "## Vicinity Plot"
   ]
  },
  {
   "cell_type": "markdown",
   "id": "0566f1ea",
   "metadata": {},
   "source": [
    "- We can see that Vicinity Transactions i.e Transactions in a window of 0-5 Transactions up and down from Fraduelent one's are of higher Amounts, we can see that Peaks got isolated in Normal Vicinity Transacations from Overall transactions "
   ]
  },
  {
   "cell_type": "code",
   "execution_count": 272,
   "id": "0bb55b0c",
   "metadata": {},
   "outputs": [
    {
     "data": {
      "text/plain": [
       "<matplotlib.legend.Legend at 0x7f0b19245710>"
      ]
     },
     "execution_count": 272,
     "metadata": {},
     "output_type": "execute_result"
    },
    {
     "data": {
      "image/png": "[encoded data removed]",
      "text/plain": [
       "<Figure size 1440x720 with 2 Axes>"
      ]
     },
     "metadata": {
      "needs_background": "light"
     },
     "output_type": "display_data"
    }
   ],
   "source": [
    "plt.figure(figsize = (20,10))\n",
    "plt.subplot(1, 2, 1)\n",
    "plt.plot(df.loc[df['Class'] == 0, 'Time'], df.loc[df['Class'] == 0, 'Amount'],label = 'Class 0')\n",
    "plt.plot(df.loc[df['Class'] == 1, 'Time'], df.loc[df['Class'] == 1, 'Amount'],label = 'Class 1')\n",
    "plt.title(\"Overall Transactions both Fraud and Normal\")\n",
    "plt.legend()\n",
    "\n",
    "\n",
    "plt.subplot(1, 2, 2)\n",
    "plt.plot(df_vicinity.loc[df['Class'] == 0, 'Time'], df_vicinity.loc[df_vicinity['Class'] == 0, 'Amount'],label = 'Class 0')\n",
    "plt.title(\"Normal Vicinity Transactions\")\n",
    "plt.legend()"
   ]
  },
  {
   "cell_type": "markdown",
   "id": "7262dfa0",
   "metadata": {},
   "source": [
    "- Class variable has negative correlation with many features, while there is less correlation amongst independent variables. As V1-V28 are created by PCA, there linear dependency is very less."
   ]
  },
  {
   "cell_type": "code",
   "execution_count": 42,
   "id": "ecdd893d",
   "metadata": {},
   "outputs": [
    {
     "data": {
      "image/png": "[encoded data removed]",
      "text/plain": [
       "<Figure size 1440x720 with 2 Axes>"
      ]
     },
     "metadata": {
      "needs_background": "light"
     },
     "output_type": "display_data"
    }
   ],
   "source": [
    "plt.figure(figsize = (20,10))\n",
    "corr = df.corr()\n",
    "ax = sns.heatmap(\n",
    "    corr, \n",
    "    vmin=-1, vmax=1, center=0,\n",
    "    cmap=sns.diverging_palette(20, 220, n=200)\n",
    ")"
   ]
  },
  {
   "cell_type": "markdown",
   "id": "c44c19db",
   "metadata": {},
   "source": [
    "# Data Preparation"
   ]
  },
  {
   "cell_type": "code",
   "execution_count": 123,
   "id": "a65415c3",
   "metadata": {},
   "outputs": [],
   "source": [
    "prefix = \"data_prep\"\n",
    "bucket = \"fraudcredit-dataset\""
   ]
  },
  {
   "cell_type": "code",
   "execution_count": 114,
   "id": "a7baf7d2",
   "metadata": {},
   "outputs": [],
   "source": [
    "X = df.iloc[:,:-1]\n",
    "y = df.iloc[:,-1]"
   ]
  },
  {
   "cell_type": "code",
   "execution_count": 115,
   "id": "0dd0f766",
   "metadata": {},
   "outputs": [],
   "source": [
    "from sklearn.model_selection import train_test_split\n",
    "x_train, x_valid, y_train, y_valid = train_test_split(X, y ,test_size = 0.2, shuffle=False)"
   ]
  },
  {
   "cell_type": "code",
   "execution_count": 118,
   "id": "04e86e45",
   "metadata": {},
   "outputs": [],
   "source": [
    "pd.concat([y_train,x_train],axis = 1).to_csv(\"train1.csv\",header = False,index = False)"
   ]
  },
  {
   "cell_type": "code",
   "execution_count": 119,
   "id": "28b534ec",
   "metadata": {},
   "outputs": [],
   "source": [
    "pd.concat([y_valid,x_valid],axis = 1).to_csv(\"valid1.csv\",header = False,index = False)"
   ]
  },
  {
   "cell_type": "code",
   "execution_count": 121,
   "id": "c871db03",
   "metadata": {},
   "outputs": [],
   "source": [
    "boto3.Session().resource('s3').Bucket(bucket).Object(os.path.join(prefix,\"train/train.csv\")).upload_file(\"train1.csv\")\n",
    "boto3.Session().resource('s3').Bucket(bucket).Object(os.path.join(prefix,\"valid/valid.csv\")).upload_file(\"valid1.csv\")"
   ]
  },
  {
   "cell_type": "markdown",
   "id": "a83de22c",
   "metadata": {},
   "source": [
    "# Modelling"
   ]
  },
  {
   "cell_type": "code",
   "execution_count": 122,
   "id": "684da059",
   "metadata": {},
   "outputs": [
    {
     "name": "stderr",
     "output_type": "stream",
     "text": [
      "The method get_image_uri has been renamed in sagemaker>=2.\n",
      "See: https://sagemaker.readthedocs.io/en/stable/v2.html for details.\n"
     ]
    }
   ],
   "source": [
    "from sagemaker.amazon.amazon_estimator import get_image_uri\n",
    "\n",
    "container = get_image_uri(boto3.Session().region_name, 'xgboost', repo_version='latest')"
   ]
  },
  {
   "cell_type": "code",
   "execution_count": 127,
   "id": "8735d89b",
   "metadata": {},
   "outputs": [
    {
     "name": "stderr",
     "output_type": "stream",
     "text": [
      "The class sagemaker.session.s3_input has been renamed in sagemaker>=2.\n",
      "See: https://sagemaker.readthedocs.io/en/stable/v2.html for details.\n",
      "The class sagemaker.session.s3_input has been renamed in sagemaker>=2.\n",
      "See: https://sagemaker.readthedocs.io/en/stable/v2.html for details.\n"
     ]
    }
   ],
   "source": [
    "s3_train_data = sagemaker.session.s3_input(s3_data = 's3://{}/{}/train'.format(bucket, prefix),content_type = 'csv')\n",
    "s3_validation_data = sagemaker.session.s3_input(s3_data = 's3://{}/{}/valid'.format(bucket, prefix),content_type = 'csv')"
   ]
  },
  {
   "cell_type": "code",
   "execution_count": 129,
   "id": "5bde8c9a",
   "metadata": {},
   "outputs": [
    {
     "data": {
      "text/plain": [
       "<sagemaker.session.Session at 0x7f0b0c8216d8>"
      ]
     },
     "execution_count": 129,
     "metadata": {},
     "output_type": "execute_result"
    }
   ],
   "source": [
    "session"
   ]
  },
  {
   "cell_type": "code",
   "execution_count": 187,
   "id": "5c25b740",
   "metadata": {},
   "outputs": [
    {
     "name": "stderr",
     "output_type": "stream",
     "text": [
      "train_instance_count has been renamed in sagemaker>=2.\n",
      "See: https://sagemaker.readthedocs.io/en/stable/v2.html for details.\n",
      "train_instance_type has been renamed in sagemaker>=2.\n",
      "See: https://sagemaker.readthedocs.io/en/stable/v2.html for details.\n"
     ]
    }
   ],
   "source": [
    "xgb_model = sagemaker.estimator.Estimator(container,\n",
    "                                    role=get_execution_role(),\n",
    "                                    train_instance_count=1, \n",
    "                                    train_instance_type='ml.m4.xlarge',\n",
    "                                    output_path='s3://{}/{}/output'.format(bucket, prefix),\n",
    "                                    sagemaker_session=session\n",
    "                                    )"
   ]
  },
  {
   "cell_type": "code",
   "execution_count": 188,
   "id": "c4217ebb",
   "metadata": {},
   "outputs": [],
   "source": [
    "xgb_model.set_hyperparameters(\n",
    "    max_depth = 5,\n",
    "    subsample = 0.8,\n",
    "    num_round = 50,\n",
    "    eta = 0.2,\n",
    "    gamma = 4,\n",
    "    min_child_weight = 6,\n",
    "    objective = 'binary:logistic',\n",
    "    eval_metric = 'auc'\n",
    ")"
   ]
  },
  {
   "cell_type": "code",
   "execution_count": 189,
   "id": "40f693e0",
   "metadata": {},
   "outputs": [
    {
     "name": "stdout",
     "output_type": "stream",
     "text": [
      "2021-12-03 13:41:26 Starting - Starting the training job...\n",
      "2021-12-03 13:41:49 Starting - Launching requested ML instancesProfilerReport-1638538886: InProgress\n",
      "...\n",
      "2021-12-03 13:42:19 Starting - Preparing the instances for training.........\n",
      "2021-12-03 13:43:54 Downloading - Downloading input data...\n",
      "2021-12-03 13:44:27 Training - Training image download completed. Training in progress..\u001b[34mArguments: train\u001b[0m\n",
      "\u001b[34m[2021-12-03:13:44:28:INFO] Running standalone xgboost training.\u001b[0m\n",
      "\u001b[34m[2021-12-03:13:44:28:INFO] File size need to be processed in the node: 90.49mb. Available memory size in the node: 8344.48mb\u001b[0m\n",
      "\u001b[34m[2021-12-03:13:44:28:INFO] Determined delimiter of CSV input is ','\u001b[0m\n",
      "\u001b[34m[13:44:28] S3DistributionType set as FullyReplicated\u001b[0m\n",
      "\u001b[34m[13:44:28] 181598x30 matrix with 5447940 entries loaded from /opt/ml/input/data/train?format=csv&label_column=0&delimiter=,\u001b[0m\n",
      "\u001b[34m[2021-12-03:13:44:28:INFO] Determined delimiter of CSV input is ','\u001b[0m\n",
      "\u001b[34m[13:44:28] S3DistributionType set as FullyReplicated\u001b[0m\n",
      "\u001b[34m[13:44:28] 45400x30 matrix with 1362000 entries loaded from /opt/ml/input/data/validation?format=csv&label_column=0&delimiter=,\u001b[0m\n",
      "\u001b[34m[13:44:29] src/tree/updater_prune.cc:74: tree pruning end, 1 roots, 16 extra nodes, 2 pruned nodes, max_depth=4\u001b[0m\n",
      "\u001b[34m[0]#011train-auc:0.932514#011validation-auc:0.895979\u001b[0m\n",
      "\u001b[34m[13:44:29] src/tree/updater_prune.cc:74: tree pruning end, 1 roots, 16 extra nodes, 0 pruned nodes, max_depth=4\u001b[0m\n",
      "\u001b[34m[1]#011train-auc:0.932536#011validation-auc:0.895991\u001b[0m\n",
      "\u001b[34m[13:44:30] src/tree/updater_prune.cc:74: tree pruning end, 1 roots, 14 extra nodes, 0 pruned nodes, max_depth=4\u001b[0m\n",
      "\u001b[34m[2]#011train-auc:0.932554#011validation-auc:0.89604\u001b[0m\n",
      "\u001b[34m[13:44:30] src/tree/updater_prune.cc:74: tree pruning end, 1 roots, 10 extra nodes, 4 pruned nodes, max_depth=4\u001b[0m\n",
      "\u001b[34m[3]#011train-auc:0.932555#011validation-auc:0.896047\u001b[0m\n",
      "\u001b[34m[13:44:30] src/tree/updater_prune.cc:74: tree pruning end, 1 roots, 14 extra nodes, 4 pruned nodes, max_depth=4\u001b[0m\n",
      "\u001b[34m[4]#011train-auc:0.932555#011validation-auc:0.896032\u001b[0m\n",
      "\u001b[34m[13:44:31] src/tree/updater_prune.cc:74: tree pruning end, 1 roots, 16 extra nodes, 0 pruned nodes, max_depth=4\u001b[0m\n",
      "\u001b[34m[5]#011train-auc:0.932547#011validation-auc:0.896013\u001b[0m\n",
      "\u001b[34m[13:44:31] src/tree/updater_prune.cc:74: tree pruning end, 1 roots, 16 extra nodes, 2 pruned nodes, max_depth=5\u001b[0m\n",
      "\u001b[34m[6]#011train-auc:0.932549#011validation-auc:0.896018\u001b[0m\n",
      "\u001b[34m[13:44:32] src/tree/updater_prune.cc:74: tree pruning end, 1 roots, 8 extra nodes, 4 pruned nodes, max_depth=3\u001b[0m\n",
      "\u001b[34m[7]#011train-auc:0.932547#011validation-auc:0.896013\u001b[0m\n",
      "\u001b[34m[13:44:32] src/tree/updater_prune.cc:74: tree pruning end, 1 roots, 12 extra nodes, 4 pruned nodes, max_depth=4\u001b[0m\n",
      "\u001b[34m[8]#011train-auc:0.932549#011validation-auc:0.896019\u001b[0m\n",
      "\u001b[34m[13:44:32] src/tree/updater_prune.cc:74: tree pruning end, 1 roots, 12 extra nodes, 2 pruned nodes, max_depth=4\u001b[0m\n",
      "\u001b[34m[9]#011train-auc:0.93255#011validation-auc:0.896015\u001b[0m\n",
      "\u001b[34m[13:44:32] src/tree/updater_prune.cc:74: tree pruning end, 1 roots, 12 extra nodes, 2 pruned nodes, max_depth=4\u001b[0m\n",
      "\u001b[34m[10]#011train-auc:0.932551#011validation-auc:0.89602\u001b[0m\n",
      "\u001b[34m[13:44:33] src/tree/updater_prune.cc:74: tree pruning end, 1 roots, 10 extra nodes, 2 pruned nodes, max_depth=3\u001b[0m\n",
      "\u001b[34m[11]#011train-auc:0.932552#011validation-auc:0.896019\u001b[0m\n",
      "\u001b[34m[13:44:33] src/tree/updater_prune.cc:74: tree pruning end, 1 roots, 8 extra nodes, 4 pruned nodes, max_depth=3\u001b[0m\n",
      "\u001b[34m[12]#011train-auc:0.932551#011validation-auc:0.896027\u001b[0m\n",
      "\u001b[34m[13:44:33] src/tree/updater_prune.cc:74: tree pruning end, 1 roots, 10 extra nodes, 4 pruned nodes, max_depth=3\u001b[0m\n",
      "\u001b[34m[13]#011train-auc:0.933911#011validation-auc:0.895988\u001b[0m\n",
      "\u001b[34m[13:44:34] src/tree/updater_prune.cc:74: tree pruning end, 1 roots, 16 extra nodes, 2 pruned nodes, max_depth=4\u001b[0m\n",
      "\u001b[34m[14]#011train-auc:0.952474#011validation-auc:0.937753\u001b[0m\n",
      "\u001b[34m[13:44:34] src/tree/updater_prune.cc:74: tree pruning end, 1 roots, 14 extra nodes, 2 pruned nodes, max_depth=4\u001b[0m\n",
      "\u001b[34m[15]#011train-auc:0.954968#011validation-auc:0.937369\u001b[0m\n",
      "\u001b[34m[13:44:34] src/tree/updater_prune.cc:74: tree pruning end, 1 roots, 6 extra nodes, 10 pruned nodes, max_depth=2\u001b[0m\n",
      "\u001b[34m[16]#011train-auc:0.954949#011validation-auc:0.937355\u001b[0m\n",
      "\u001b[34m[13:44:35] src/tree/updater_prune.cc:74: tree pruning end, 1 roots, 12 extra nodes, 10 pruned nodes, max_depth=4\u001b[0m\n",
      "\u001b[34m[17]#011train-auc:0.954998#011validation-auc:0.9375\u001b[0m\n",
      "\u001b[34m[13:44:35] src/tree/updater_prune.cc:74: tree pruning end, 1 roots, 12 extra nodes, 10 pruned nodes, max_depth=4\u001b[0m\n",
      "\u001b[34m[18]#011train-auc:0.957648#011validation-auc:0.936724\u001b[0m\n",
      "\u001b[34m[13:44:35] src/tree/updater_prune.cc:74: tree pruning end, 1 roots, 12 extra nodes, 4 pruned nodes, max_depth=4\u001b[0m\n",
      "\u001b[34m[19]#011train-auc:0.971941#011validation-auc:0.95406\u001b[0m\n",
      "\u001b[34m[13:44:36] src/tree/updater_prune.cc:74: tree pruning end, 1 roots, 12 extra nodes, 6 pruned nodes, max_depth=4\u001b[0m\n",
      "\u001b[34m[20]#011train-auc:0.973944#011validation-auc:0.956307\u001b[0m\n",
      "\u001b[34m[13:44:36] src/tree/updater_prune.cc:74: tree pruning end, 1 roots, 10 extra nodes, 8 pruned nodes, max_depth=3\u001b[0m\n",
      "\u001b[34m[21]#011train-auc:0.973782#011validation-auc:0.955993\u001b[0m\n",
      "\u001b[34m[13:44:36] src/tree/updater_prune.cc:74: tree pruning end, 1 roots, 10 extra nodes, 10 pruned nodes, max_depth=4\u001b[0m\n",
      "\u001b[34m[22]#011train-auc:0.973749#011validation-auc:0.955944\u001b[0m\n",
      "\u001b[34m[13:44:37] src/tree/updater_prune.cc:74: tree pruning end, 1 roots, 8 extra nodes, 12 pruned nodes, max_depth=4\u001b[0m\n",
      "\u001b[34m[23]#011train-auc:0.974238#011validation-auc:0.957245\u001b[0m\n",
      "\u001b[34m[13:44:37] src/tree/updater_prune.cc:74: tree pruning end, 1 roots, 10 extra nodes, 16 pruned nodes, max_depth=5\u001b[0m\n",
      "\u001b[34m[24]#011train-auc:0.97409#011validation-auc:0.9587\u001b[0m\n",
      "\u001b[34m[13:44:37] src/tree/updater_prune.cc:74: tree pruning end, 1 roots, 14 extra nodes, 4 pruned nodes, max_depth=4\u001b[0m\n",
      "\u001b[34m[25]#011train-auc:0.974351#011validation-auc:0.958988\u001b[0m\n",
      "\u001b[34m[13:44:38] src/tree/updater_prune.cc:74: tree pruning end, 1 roots, 10 extra nodes, 10 pruned nodes, max_depth=5\u001b[0m\n",
      "\u001b[34m[26]#011train-auc:0.976338#011validation-auc:0.958451\u001b[0m\n",
      "\u001b[34m[13:44:38] src/tree/updater_prune.cc:74: tree pruning end, 1 roots, 12 extra nodes, 10 pruned nodes, max_depth=4\u001b[0m\n",
      "\u001b[34m[27]#011train-auc:0.977593#011validation-auc:0.958823\u001b[0m\n",
      "\u001b[34m[13:44:39] src/tree/updater_prune.cc:74: tree pruning end, 1 roots, 8 extra nodes, 16 pruned nodes, max_depth=4\u001b[0m\n",
      "\u001b[34m[28]#011train-auc:0.977815#011validation-auc:0.958389\u001b[0m\n",
      "\u001b[34m[13:44:39] src/tree/updater_prune.cc:74: tree pruning end, 1 roots, 10 extra nodes, 12 pruned nodes, max_depth=5\u001b[0m\n",
      "\u001b[34m[29]#011train-auc:0.978256#011validation-auc:0.958776\u001b[0m\n",
      "\u001b[34m[13:44:39] src/tree/updater_prune.cc:74: tree pruning end, 1 roots, 10 extra nodes, 8 pruned nodes, max_depth=4\u001b[0m\n",
      "\u001b[34m[30]#011train-auc:0.980827#011validation-auc:0.976865\u001b[0m\n",
      "\u001b[34m[13:44:40] src/tree/updater_prune.cc:74: tree pruning end, 1 roots, 12 extra nodes, 8 pruned nodes, max_depth=5\u001b[0m\n",
      "\u001b[34m[31]#011train-auc:0.98171#011validation-auc:0.976115\u001b[0m\n",
      "\u001b[34m[13:44:40] src/tree/updater_prune.cc:74: tree pruning end, 1 roots, 8 extra nodes, 10 pruned nodes, max_depth=4\u001b[0m\n",
      "\u001b[34m[32]#011train-auc:0.981639#011validation-auc:0.976154\u001b[0m\n",
      "\u001b[34m[13:44:40] src/tree/updater_prune.cc:74: tree pruning end, 1 roots, 12 extra nodes, 6 pruned nodes, max_depth=5\u001b[0m\n",
      "\u001b[34m[33]#011train-auc:0.982228#011validation-auc:0.975431\u001b[0m\n",
      "\u001b[34m[13:44:41] src/tree/updater_prune.cc:74: tree pruning end, 1 roots, 10 extra nodes, 8 pruned nodes, max_depth=5\u001b[0m\n",
      "\u001b[34m[34]#011train-auc:0.987555#011validation-auc:0.974559\u001b[0m\n",
      "\u001b[34m[13:44:41] src/tree/updater_prune.cc:74: tree pruning end, 1 roots, 12 extra nodes, 4 pruned nodes, max_depth=5\u001b[0m\n",
      "\u001b[34m[35]#011train-auc:0.989226#011validation-auc:0.966986\u001b[0m\n",
      "\u001b[34m[13:44:41] src/tree/updater_prune.cc:74: tree pruning end, 1 roots, 10 extra nodes, 8 pruned nodes, max_depth=4\u001b[0m\n",
      "\u001b[34m[36]#011train-auc:0.990361#011validation-auc:0.966398\u001b[0m\n",
      "\u001b[34m[13:44:41] src/tree/updater_prune.cc:74: tree pruning end, 1 roots, 10 extra nodes, 8 pruned nodes, max_depth=5\u001b[0m\n",
      "\u001b[34m[37]#011train-auc:0.990968#011validation-auc:0.965131\u001b[0m\n",
      "\u001b[34m[13:44:42] src/tree/updater_prune.cc:74: tree pruning end, 1 roots, 10 extra nodes, 6 pruned nodes, max_depth=4\u001b[0m\n",
      "\u001b[34m[38]#011train-auc:0.991007#011validation-auc:0.961696\u001b[0m\n",
      "\u001b[34m[13:44:42] src/tree/updater_prune.cc:74: tree pruning end, 1 roots, 14 extra nodes, 2 pruned nodes, max_depth=5\u001b[0m\n",
      "\u001b[34m[39]#011train-auc:0.99275#011validation-auc:0.969012\u001b[0m\n",
      "\u001b[34m[13:44:42] src/tree/updater_prune.cc:74: tree pruning end, 1 roots, 8 extra nodes, 8 pruned nodes, max_depth=4\u001b[0m\n",
      "\n",
      "2021-12-03 13:44:56 Uploading - Uploading generated training model\n",
      "2021-12-03 13:44:56 Completed - Training job completed\n",
      "\u001b[34m[40]#011train-auc:0.992614#011validation-auc:0.967472\u001b[0m\n",
      "\u001b[34m[13:44:43] src/tree/updater_prune.cc:74: tree pruning end, 1 roots, 10 extra nodes, 6 pruned nodes, max_depth=4\u001b[0m\n",
      "\u001b[34m[41]#011train-auc:0.993135#011validation-auc:0.966429\u001b[0m\n",
      "\u001b[34m[13:44:43] src/tree/updater_prune.cc:74: tree pruning end, 1 roots, 12 extra nodes, 4 pruned nodes, max_depth=5\u001b[0m\n",
      "\u001b[34m[42]#011train-auc:0.99386#011validation-auc:0.966328\u001b[0m\n",
      "\u001b[34m[13:44:43] src/tree/updater_prune.cc:74: tree pruning end, 1 roots, 6 extra nodes, 12 pruned nodes, max_depth=3\u001b[0m\n",
      "\u001b[34m[43]#011train-auc:0.993721#011validation-auc:0.965066\u001b[0m\n",
      "\u001b[34m[13:44:44] src/tree/updater_prune.cc:74: tree pruning end, 1 roots, 10 extra nodes, 6 pruned nodes, max_depth=4\u001b[0m\n",
      "\u001b[34m[44]#011train-auc:0.993859#011validation-auc:0.96681\u001b[0m\n",
      "\u001b[34m[13:44:44] src/tree/updater_prune.cc:74: tree pruning end, 1 roots, 10 extra nodes, 2 pruned nodes, max_depth=5\u001b[0m\n",
      "\u001b[34m[45]#011train-auc:0.994463#011validation-auc:0.965747\u001b[0m\n",
      "\u001b[34m[13:44:44] src/tree/updater_prune.cc:74: tree pruning end, 1 roots, 8 extra nodes, 4 pruned nodes, max_depth=4\u001b[0m\n",
      "\u001b[34m[46]#011train-auc:0.99465#011validation-auc:0.970983\u001b[0m\n",
      "\u001b[34m[13:44:45] src/tree/updater_prune.cc:74: tree pruning end, 1 roots, 10 extra nodes, 4 pruned nodes, max_depth=4\u001b[0m\n",
      "\u001b[34m[47]#011train-auc:0.995337#011validation-auc:0.967625\u001b[0m\n",
      "\u001b[34m[13:44:45] src/tree/updater_prune.cc:74: tree pruning end, 1 roots, 10 extra nodes, 2 pruned nodes, max_depth=4\u001b[0m\n",
      "\u001b[34m[48]#011train-auc:0.995789#011validation-auc:0.967217\u001b[0m\n",
      "\u001b[34m[13:44:45] src/tree/updater_prune.cc:74: tree pruning end, 1 roots, 8 extra nodes, 4 pruned nodes, max_depth=4\u001b[0m\n",
      "\u001b[34m[49]#011train-auc:0.995937#011validation-auc:0.971232\u001b[0m\n",
      "Training seconds: 62\n",
      "Billable seconds: 62\n"
     ]
    }
   ],
   "source": [
    "xgb_model.fit({'train':s3_train_data,'validation':s3_validation_data})"
   ]
  },
  {
   "cell_type": "code",
   "execution_count": 192,
   "id": "38b9ade8",
   "metadata": {},
   "outputs": [
    {
     "name": "stderr",
     "output_type": "stream",
     "text": [
      "Using already existing model: FraudModelXgb-xgb\n"
     ]
    },
    {
     "name": "stdout",
     "output_type": "stream",
     "text": [
      "------!"
     ]
    }
   ],
   "source": [
    "predictor = xgb_model.deploy(initial_instance_count=1,\n",
    "                       model_name=\"{}-xgb\".format('FraudModelXgb'),\n",
    "                       endpoint_name=\"{}-xgb\".format('FraudModelEndPointXgb'),\n",
    "                       instance_type='ml.m4.xlarge')"
   ]
  },
  {
   "cell_type": "code",
   "execution_count": 193,
   "id": "6aac7eec",
   "metadata": {},
   "outputs": [],
   "source": [
    "predictor.serializer = sagemaker.serializers.CSVSerializer()"
   ]
  },
  {
   "cell_type": "code",
   "execution_count": 194,
   "id": "36497cab",
   "metadata": {},
   "outputs": [],
   "source": [
    "test = pd.read_csv(\"s3://fraudcredit-dataset/data/test.csv\")"
   ]
  },
  {
   "cell_type": "code",
   "execution_count": 195,
   "id": "7a9c8fd7",
   "metadata": {},
   "outputs": [
    {
     "data": {
      "text/html": [
       "<div>\n",
       "<style scoped>\n",
       "    .dataframe tbody tr th:only-of-type {\n",
       "        vertical-align: middle;\n",
       "    }\n",
       "\n",
       "    .dataframe tbody tr th {\n",
       "        vertical-align: top;\n",
       "    }\n",
       "\n",
       "    .dataframe thead th {\n",
       "        text-align: right;\n",
       "    }\n",
       "</style>\n",
       "<table border=\"1\" class=\"dataframe\">\n",
       "  <thead>\n",
       "    <tr style=\"text-align: right;\">\n",
       "      <th></th>\n",
       "      <th>Time</th>\n",
       "      <th>V1</th>\n",
       "      <th>V2</th>\n",
       "      <th>V3</th>\n",
       "      <th>V4</th>\n",
       "      <th>V5</th>\n",
       "      <th>V6</th>\n",
       "      <th>V7</th>\n",
       "      <th>V8</th>\n",
       "      <th>V9</th>\n",
       "      <th>...</th>\n",
       "      <th>V21</th>\n",
       "      <th>V22</th>\n",
       "      <th>V23</th>\n",
       "      <th>V24</th>\n",
       "      <th>V25</th>\n",
       "      <th>V26</th>\n",
       "      <th>V27</th>\n",
       "      <th>V28</th>\n",
       "      <th>Amount</th>\n",
       "      <th>Class</th>\n",
       "    </tr>\n",
       "  </thead>\n",
       "  <tbody>\n",
       "    <tr>\n",
       "      <th>0</th>\n",
       "      <td>144893</td>\n",
       "      <td>2.057496</td>\n",
       "      <td>0.076345</td>\n",
       "      <td>-1.893408</td>\n",
       "      <td>0.179545</td>\n",
       "      <td>0.734665</td>\n",
       "      <td>-0.191632</td>\n",
       "      <td>0.049654</td>\n",
       "      <td>-0.025251</td>\n",
       "      <td>0.284664</td>\n",
       "      <td>...</td>\n",
       "      <td>-0.340743</td>\n",
       "      <td>-0.909377</td>\n",
       "      <td>0.274296</td>\n",
       "      <td>-0.066170</td>\n",
       "      <td>-0.241510</td>\n",
       "      <td>0.190313</td>\n",
       "      <td>-0.064810</td>\n",
       "      <td>-0.046415</td>\n",
       "      <td>1.98</td>\n",
       "      <td>0</td>\n",
       "    </tr>\n",
       "    <tr>\n",
       "      <th>1</th>\n",
       "      <td>144893</td>\n",
       "      <td>1.744125</td>\n",
       "      <td>-0.493494</td>\n",
       "      <td>-0.635908</td>\n",
       "      <td>1.333290</td>\n",
       "      <td>0.345852</td>\n",
       "      <td>1.624104</td>\n",
       "      <td>-0.571394</td>\n",
       "      <td>0.568925</td>\n",
       "      <td>1.323268</td>\n",
       "      <td>...</td>\n",
       "      <td>-0.439836</td>\n",
       "      <td>-1.024800</td>\n",
       "      <td>0.536912</td>\n",
       "      <td>-0.460976</td>\n",
       "      <td>-0.569911</td>\n",
       "      <td>-1.037838</td>\n",
       "      <td>0.089253</td>\n",
       "      <td>-0.031597</td>\n",
       "      <td>42.98</td>\n",
       "      <td>0</td>\n",
       "    </tr>\n",
       "    <tr>\n",
       "      <th>2</th>\n",
       "      <td>144894</td>\n",
       "      <td>-0.758391</td>\n",
       "      <td>1.143454</td>\n",
       "      <td>-0.798124</td>\n",
       "      <td>-0.333880</td>\n",
       "      <td>2.465843</td>\n",
       "      <td>-0.961544</td>\n",
       "      <td>1.586615</td>\n",
       "      <td>-0.278394</td>\n",
       "      <td>-0.580092</td>\n",
       "      <td>...</td>\n",
       "      <td>0.066881</td>\n",
       "      <td>0.191850</td>\n",
       "      <td>-0.363299</td>\n",
       "      <td>0.149835</td>\n",
       "      <td>0.400646</td>\n",
       "      <td>-0.771319</td>\n",
       "      <td>-0.031268</td>\n",
       "      <td>0.272797</td>\n",
       "      <td>1.00</td>\n",
       "      <td>0</td>\n",
       "    </tr>\n",
       "    <tr>\n",
       "      <th>3</th>\n",
       "      <td>144894</td>\n",
       "      <td>2.088701</td>\n",
       "      <td>-1.187320</td>\n",
       "      <td>-0.381122</td>\n",
       "      <td>-0.554617</td>\n",
       "      <td>-1.080683</td>\n",
       "      <td>0.313513</td>\n",
       "      <td>-1.359061</td>\n",
       "      <td>0.182925</td>\n",
       "      <td>0.479556</td>\n",
       "      <td>...</td>\n",
       "      <td>-0.397774</td>\n",
       "      <td>-0.671753</td>\n",
       "      <td>0.347479</td>\n",
       "      <td>0.039015</td>\n",
       "      <td>-0.644204</td>\n",
       "      <td>0.469529</td>\n",
       "      <td>-0.006034</td>\n",
       "      <td>-0.030361</td>\n",
       "      <td>38.99</td>\n",
       "      <td>0</td>\n",
       "    </tr>\n",
       "    <tr>\n",
       "      <th>4</th>\n",
       "      <td>144894</td>\n",
       "      <td>-1.108486</td>\n",
       "      <td>0.810326</td>\n",
       "      <td>-0.865200</td>\n",
       "      <td>-0.848797</td>\n",
       "      <td>1.961462</td>\n",
       "      <td>-0.346329</td>\n",
       "      <td>1.457932</td>\n",
       "      <td>0.075183</td>\n",
       "      <td>-0.554697</td>\n",
       "      <td>...</td>\n",
       "      <td>0.448833</td>\n",
       "      <td>1.455308</td>\n",
       "      <td>-0.698171</td>\n",
       "      <td>-0.977931</td>\n",
       "      <td>0.733008</td>\n",
       "      <td>-0.135713</td>\n",
       "      <td>-0.258377</td>\n",
       "      <td>-0.291331</td>\n",
       "      <td>16.48</td>\n",
       "      <td>0</td>\n",
       "    </tr>\n",
       "  </tbody>\n",
       "</table>\n",
       "<p>5 rows × 31 columns</p>\n",
       "</div>"
      ],
      "text/plain": [
       "     Time        V1        V2        V3        V4        V5        V6  \\\n",
       "0  144893  2.057496  0.076345 -1.893408  0.179545  0.734665 -0.191632   \n",
       "1  144893  1.744125 -0.493494 -0.635908  1.333290  0.345852  1.624104   \n",
       "2  144894 -0.758391  1.143454 -0.798124 -0.333880  2.465843 -0.961544   \n",
       "3  144894  2.088701 -1.187320 -0.381122 -0.554617 -1.080683  0.313513   \n",
       "4  144894 -1.108486  0.810326 -0.865200 -0.848797  1.961462 -0.346329   \n",
       "\n",
       "         V7        V8        V9  ...       V21       V22       V23       V24  \\\n",
       "0  0.049654 -0.025251  0.284664  ... -0.340743 -0.909377  0.274296 -0.066170   \n",
       "1 -0.571394  0.568925  1.323268  ... -0.439836 -1.024800  0.536912 -0.460976   \n",
       "2  1.586615 -0.278394 -0.580092  ...  0.066881  0.191850 -0.363299  0.149835   \n",
       "3 -1.359061  0.182925  0.479556  ... -0.397774 -0.671753  0.347479  0.039015   \n",
       "4  1.457932  0.075183 -0.554697  ...  0.448833  1.455308 -0.698171 -0.977931   \n",
       "\n",
       "        V25       V26       V27       V28  Amount  Class  \n",
       "0 -0.241510  0.190313 -0.064810 -0.046415    1.98      0  \n",
       "1 -0.569911 -1.037838  0.089253 -0.031597   42.98      0  \n",
       "2  0.400646 -0.771319 -0.031268  0.272797    1.00      0  \n",
       "3 -0.644204  0.469529 -0.006034 -0.030361   38.99      0  \n",
       "4  0.733008 -0.135713 -0.258377 -0.291331   16.48      0  \n",
       "\n",
       "[5 rows x 31 columns]"
      ]
     },
     "execution_count": 195,
     "metadata": {},
     "output_type": "execute_result"
    }
   ],
   "source": [
    "test.head()"
   ]
  },
  {
   "cell_type": "code",
   "execution_count": 196,
   "id": "03f16fd3",
   "metadata": {},
   "outputs": [],
   "source": [
    "def predict(predictor,data, rows=500):\n",
    "    split_array = np.array_split(data, int(data.shape[0] / float(rows) + 1))\n",
    "    predictions = ''\n",
    "    for array in split_array:\n",
    "        predictions = ','.join([predictions, predictor.predict(array).decode('utf-8')])\n",
    "\n",
    "    return np.fromstring(predictions[1:], sep=',')"
   ]
  },
  {
   "cell_type": "code",
   "execution_count": 197,
   "id": "739ee2d8",
   "metadata": {},
   "outputs": [],
   "source": [
    "preds = predict(predictor,test.drop(['Class'],axis  = 1).to_numpy())"
   ]
  },
  {
   "cell_type": "code",
   "execution_count": 198,
   "id": "79cd68bf",
   "metadata": {},
   "outputs": [
    {
     "data": {
      "text/plain": [
       "array([1.15255491e-04, 2.13810068e-04, 2.98936968e-04, ...,\n",
       "       1.35810944e-04, 8.58901767e-05, 1.06620639e-04])"
      ]
     },
     "execution_count": 198,
     "metadata": {},
     "output_type": "execute_result"
    }
   ],
   "source": [
    "preds"
   ]
  },
  {
   "cell_type": "code",
   "execution_count": 212,
   "id": "5cb0b0b4",
   "metadata": {},
   "outputs": [
    {
     "name": "stdout",
     "output_type": "stream",
     "text": [
      "Training AUC 0.8466406854424314\n"
     ]
    }
   ],
   "source": [
    "from sklearn.metrics import roc_auc_score\n",
    "print(\"Training AUC\", roc_auc_score( test['Class'],  np.round(preds))) "
   ]
  },
  {
   "cell_type": "code",
   "execution_count": 199,
   "id": "29425350",
   "metadata": {},
   "outputs": [
    {
     "data": {
      "text/html": [
       "<div>\n",
       "<style scoped>\n",
       "    .dataframe tbody tr th:only-of-type {\n",
       "        vertical-align: middle;\n",
       "    }\n",
       "\n",
       "    .dataframe tbody tr th {\n",
       "        vertical-align: top;\n",
       "    }\n",
       "\n",
       "    .dataframe thead th {\n",
       "        text-align: right;\n",
       "    }\n",
       "</style>\n",
       "<table border=\"1\" class=\"dataframe\">\n",
       "  <thead>\n",
       "    <tr style=\"text-align: right;\">\n",
       "      <th>Prediction</th>\n",
       "      <th>0.0</th>\n",
       "      <th>1.0</th>\n",
       "    </tr>\n",
       "    <tr>\n",
       "      <th>Actual</th>\n",
       "      <th></th>\n",
       "      <th></th>\n",
       "    </tr>\n",
       "  </thead>\n",
       "  <tbody>\n",
       "    <tr>\n",
       "      <th>0</th>\n",
       "      <td>57731</td>\n",
       "      <td>3</td>\n",
       "    </tr>\n",
       "    <tr>\n",
       "      <th>1</th>\n",
       "      <td>23</td>\n",
       "      <td>52</td>\n",
       "    </tr>\n",
       "  </tbody>\n",
       "</table>\n",
       "</div>"
      ],
      "text/plain": [
       "Prediction    0.0  1.0\n",
       "Actual                \n",
       "0           57731    3\n",
       "1              23   52"
      ]
     },
     "execution_count": 199,
     "metadata": {},
     "output_type": "execute_result"
    }
   ],
   "source": [
    "pd.crosstab(index = test['Class'],columns = np.round(preds),rownames = ['Actual'],colnames = ['Prediction'])"
   ]
  },
  {
   "cell_type": "markdown",
   "id": "a7d8e17a",
   "metadata": {},
   "source": [
    "## Grid Search using Sagemaker Auto Tuner"
   ]
  },
  {
   "cell_type": "code",
   "execution_count": 225,
   "id": "8ede06f2",
   "metadata": {},
   "outputs": [],
   "source": [
    "hyper_params = {\"alpha\": cp(0.01, 10, scaling_type=\"Logarithmic\"),\n",
    "                \"max_depth\": ip(3, 10, scaling_type=\"Linear\"),\n",
    "                \"lambda\": cp(0.01, 10, scaling_type=\"Logarithmic\"),\n",
    "                \"subsample\" : cp(0.6, 0.9, scaling_type=\"Linear\"),\n",
    "                \"num_round\" : ip(25, 100, scaling_type=\"Linear\"),\n",
    "                \"eta\" : cp(0.1, 0.3, scaling_type=\"Linear\"),\n",
    "                \"gamma\" : ip(2, 8, scaling_type=\"Linear\"),\n",
    "                \"min_child_weight\" : ip(2, 8, scaling_type=\"Linear\"),\n",
    "}"
   ]
  },
  {
   "cell_type": "code",
   "execution_count": 226,
   "id": "16b898f6",
   "metadata": {},
   "outputs": [],
   "source": [
    "auto_tuner = HyperparameterTuner(\n",
    "    xgb_model,\n",
    "    hyperparameter_ranges = hyper_params,\n",
    "    objective_metric_name = \"validation:auc\",\n",
    "    max_jobs=5,\n",
    "    max_parallel_jobs=4,\n",
    "    strategy=\"Random\"\n",
    ")"
   ]
  },
  {
   "cell_type": "code",
   "execution_count": 227,
   "id": "7cd202e0",
   "metadata": {},
   "outputs": [
    {
     "name": "stdout",
     "output_type": "stream",
     "text": [
      "..........................................................................................................!\n"
     ]
    }
   ],
   "source": [
    "auto_tuner.fit({\"train\": s3_train_data, \"validation\": s3_validation_data})"
   ]
  },
  {
   "cell_type": "code",
   "execution_count": 228,
   "id": "66cfb7ee",
   "metadata": {},
   "outputs": [
    {
     "name": "stdout",
     "output_type": "stream",
     "text": [
      "\n",
      "2021-12-03 14:33:58 Starting - Preparing the instances for training\n",
      "2021-12-03 14:33:58 Downloading - Downloading input data\n",
      "2021-12-03 14:33:58 Training - Training image download completed. Training in progress.\n",
      "2021-12-03 14:33:58 Uploading - Uploading generated training model\n",
      "2021-12-03 14:33:58 Completed - Training job completed\n"
     ]
    },
    {
     "name": "stderr",
     "output_type": "stream",
     "text": [
      "Using already existing model: FraudModelXgbAutoTuner1-xgb\n"
     ]
    },
    {
     "name": "stdout",
     "output_type": "stream",
     "text": [
      "-----!"
     ]
    }
   ],
   "source": [
    "predictor_tuner = auto_tuner.deploy(initial_instance_count=1,\n",
    "                       model_name=\"{}-xgb\".format('FraudModelXgbAutoTuner1'),\n",
    "                       endpoint_name=\"{}-xgb\".format('FraudModelEndPointXgbAutoTuner'),\n",
    "                       instance_type='ml.m4.xlarge')"
   ]
  },
  {
   "cell_type": "code",
   "execution_count": 229,
   "id": "db7cf52e",
   "metadata": {},
   "outputs": [],
   "source": [
    "predictor_tuner.serializer = sagemaker.serializers.CSVSerializer()"
   ]
  },
  {
   "cell_type": "code",
   "execution_count": 230,
   "id": "6b32e582",
   "metadata": {},
   "outputs": [],
   "source": [
    "preds1 = predict(predictor_tuner,test.drop(['Class'],axis  = 1).to_numpy())"
   ]
  },
  {
   "cell_type": "code",
   "execution_count": 231,
   "id": "d7064098",
   "metadata": {},
   "outputs": [
    {
     "data": {
      "text/plain": [
       "array([1.55056128e-04, 2.25844240e-04, 1.47602957e-04, ...,\n",
       "       1.13480506e-04, 8.59726133e-05, 9.34234704e-05])"
      ]
     },
     "execution_count": 231,
     "metadata": {},
     "output_type": "execute_result"
    }
   ],
   "source": [
    "preds1"
   ]
  },
  {
   "cell_type": "code",
   "execution_count": 232,
   "id": "7a36e5ac",
   "metadata": {},
   "outputs": [
    {
     "name": "stdout",
     "output_type": "stream",
     "text": [
      "Training AUC 0.8332727104767843\n"
     ]
    }
   ],
   "source": [
    "from sklearn.metrics import roc_auc_score\n",
    "print(\"Training AUC\", roc_auc_score( test['Class'],  np.round(preds1)))"
   ]
  },
  {
   "cell_type": "code",
   "execution_count": 233,
   "id": "6f3061a0",
   "metadata": {},
   "outputs": [
    {
     "data": {
      "text/html": [
       "<div>\n",
       "<style scoped>\n",
       "    .dataframe tbody tr th:only-of-type {\n",
       "        vertical-align: middle;\n",
       "    }\n",
       "\n",
       "    .dataframe tbody tr th {\n",
       "        vertical-align: top;\n",
       "    }\n",
       "\n",
       "    .dataframe thead th {\n",
       "        text-align: right;\n",
       "    }\n",
       "</style>\n",
       "<table border=\"1\" class=\"dataframe\">\n",
       "  <thead>\n",
       "    <tr style=\"text-align: right;\">\n",
       "      <th>Prediction</th>\n",
       "      <th>0.0</th>\n",
       "      <th>1.0</th>\n",
       "    </tr>\n",
       "    <tr>\n",
       "      <th>Actual</th>\n",
       "      <th></th>\n",
       "      <th></th>\n",
       "    </tr>\n",
       "  </thead>\n",
       "  <tbody>\n",
       "    <tr>\n",
       "      <th>0</th>\n",
       "      <td>57727</td>\n",
       "      <td>7</td>\n",
       "    </tr>\n",
       "    <tr>\n",
       "      <th>1</th>\n",
       "      <td>25</td>\n",
       "      <td>50</td>\n",
       "    </tr>\n",
       "  </tbody>\n",
       "</table>\n",
       "</div>"
      ],
      "text/plain": [
       "Prediction    0.0  1.0\n",
       "Actual                \n",
       "0           57727    7\n",
       "1              25   50"
      ]
     },
     "execution_count": 233,
     "metadata": {},
     "output_type": "execute_result"
    }
   ],
   "source": [
    "pd.crosstab(index = test['Class'],columns = np.round(preds1),rownames = ['Actual'],colnames = ['Prediction'])"
   ]
  },
  {
   "cell_type": "markdown",
   "id": "036a3d57",
   "metadata": {},
   "source": [
    "# According to Crosstab and AUC score our XGB Basic model outporfming Autotuner Model"
   ]
  },
  {
   "cell_type": "code",
   "execution_count": 204,
   "id": "b7aba9a7",
   "metadata": {},
   "outputs": [
    {
     "name": "stderr",
     "output_type": "stream",
     "text": [
      "The endpoint attribute has been renamed in sagemaker>=2.\n",
      "See: https://sagemaker.readthedocs.io/en/stable/v2.html for details.\n"
     ]
    },
    {
     "ename": "ClientError",
     "evalue": "An error occurred (ValidationException) when calling the DeleteEndpoint operation: Could not find endpoint \"arn:aws:sagemaker:us-east-2:746012564509:endpoint/fraudmodelendpointxgbautotuner-xgb\".",
     "output_type": "error",
     "traceback": [
      "\u001b[0;31m---------------------------------------------------------------------------\u001b[0m",
      "\u001b[0;31mClientError\u001b[0m                               Traceback (most recent call last)",
      "\u001b[0;32m<ipython-input-204-59ea82638671>\u001b[0m in \u001b[0;36m<module>\u001b[0;34m\u001b[0m\n\u001b[1;32m      1\u001b[0m \u001b[0;32mimport\u001b[0m \u001b[0msagemaker\u001b[0m\u001b[0;34m\u001b[0m\u001b[0;34m\u001b[0m\u001b[0m\n\u001b[1;32m      2\u001b[0m \u001b[0;34m\u001b[0m\u001b[0m\n\u001b[0;32m----> 3\u001b[0;31m \u001b[0msagemaker\u001b[0m\u001b[0;34m.\u001b[0m\u001b[0mSession\u001b[0m\u001b[0;34m(\u001b[0m\u001b[0;34m)\u001b[0m\u001b[0;34m.\u001b[0m\u001b[0mdelete_endpoint\u001b[0m\u001b[0;34m(\u001b[0m\u001b[0mpredictor_tuner\u001b[0m\u001b[0;34m.\u001b[0m\u001b[0mendpoint\u001b[0m\u001b[0;34m)\u001b[0m\u001b[0;34m\u001b[0m\u001b[0;34m\u001b[0m\u001b[0m\n\u001b[0m",
      "\u001b[0;32m~/anaconda3/envs/python3/lib/python3.6/site-packages/sagemaker/session.py\u001b[0m in \u001b[0;36mdelete_endpoint\u001b[0;34m(self, endpoint_name)\u001b[0m\n\u001b[1;32m   3112\u001b[0m         \"\"\"\n\u001b[1;32m   3113\u001b[0m         \u001b[0mLOGGER\u001b[0m\u001b[0;34m.\u001b[0m\u001b[0minfo\u001b[0m\u001b[0;34m(\u001b[0m\u001b[0;34m\"Deleting endpoint with name: %s\"\u001b[0m\u001b[0;34m,\u001b[0m \u001b[0mendpoint_name\u001b[0m\u001b[0;34m)\u001b[0m\u001b[0;34m\u001b[0m\u001b[0;34m\u001b[0m\u001b[0m\n\u001b[0;32m-> 3114\u001b[0;31m         \u001b[0mself\u001b[0m\u001b[0;34m.\u001b[0m\u001b[0msagemaker_client\u001b[0m\u001b[0;34m.\u001b[0m\u001b[0mdelete_endpoint\u001b[0m\u001b[0;34m(\u001b[0m\u001b[0mEndpointName\u001b[0m\u001b[0;34m=\u001b[0m\u001b[0mendpoint_name\u001b[0m\u001b[0;34m)\u001b[0m\u001b[0;34m\u001b[0m\u001b[0;34m\u001b[0m\u001b[0m\n\u001b[0m\u001b[1;32m   3115\u001b[0m \u001b[0;34m\u001b[0m\u001b[0m\n\u001b[1;32m   3116\u001b[0m     \u001b[0;32mdef\u001b[0m \u001b[0mdelete_endpoint_config\u001b[0m\u001b[0;34m(\u001b[0m\u001b[0mself\u001b[0m\u001b[0;34m,\u001b[0m \u001b[0mendpoint_config_name\u001b[0m\u001b[0;34m)\u001b[0m\u001b[0;34m:\u001b[0m\u001b[0;34m\u001b[0m\u001b[0;34m\u001b[0m\u001b[0m\n",
      "\u001b[0;32m~/anaconda3/envs/python3/lib/python3.6/site-packages/botocore/client.py\u001b[0m in \u001b[0;36m_api_call\u001b[0;34m(self, *args, **kwargs)\u001b[0m\n\u001b[1;32m    389\u001b[0m                     \"%s() only accepts keyword arguments.\" % py_operation_name)\n\u001b[1;32m    390\u001b[0m             \u001b[0;31m# The \"self\" in this scope is referring to the BaseClient.\u001b[0m\u001b[0;34m\u001b[0m\u001b[0;34m\u001b[0m\u001b[0;34m\u001b[0m\u001b[0m\n\u001b[0;32m--> 391\u001b[0;31m             \u001b[0;32mreturn\u001b[0m \u001b[0mself\u001b[0m\u001b[0;34m.\u001b[0m\u001b[0m_make_api_call\u001b[0m\u001b[0;34m(\u001b[0m\u001b[0moperation_name\u001b[0m\u001b[0;34m,\u001b[0m \u001b[0mkwargs\u001b[0m\u001b[0;34m)\u001b[0m\u001b[0;34m\u001b[0m\u001b[0;34m\u001b[0m\u001b[0m\n\u001b[0m\u001b[1;32m    392\u001b[0m \u001b[0;34m\u001b[0m\u001b[0m\n\u001b[1;32m    393\u001b[0m         \u001b[0m_api_call\u001b[0m\u001b[0;34m.\u001b[0m\u001b[0m__name__\u001b[0m \u001b[0;34m=\u001b[0m \u001b[0mstr\u001b[0m\u001b[0;34m(\u001b[0m\u001b[0mpy_operation_name\u001b[0m\u001b[0;34m)\u001b[0m\u001b[0;34m\u001b[0m\u001b[0;34m\u001b[0m\u001b[0m\n",
      "\u001b[0;32m~/anaconda3/envs/python3/lib/python3.6/site-packages/botocore/client.py\u001b[0m in \u001b[0;36m_make_api_call\u001b[0;34m(self, operation_name, api_params)\u001b[0m\n\u001b[1;32m    717\u001b[0m             \u001b[0merror_code\u001b[0m \u001b[0;34m=\u001b[0m \u001b[0mparsed_response\u001b[0m\u001b[0;34m.\u001b[0m\u001b[0mget\u001b[0m\u001b[0;34m(\u001b[0m\u001b[0;34m\"Error\"\u001b[0m\u001b[0;34m,\u001b[0m \u001b[0;34m{\u001b[0m\u001b[0;34m}\u001b[0m\u001b[0;34m)\u001b[0m\u001b[0;34m.\u001b[0m\u001b[0mget\u001b[0m\u001b[0;34m(\u001b[0m\u001b[0;34m\"Code\"\u001b[0m\u001b[0;34m)\u001b[0m\u001b[0;34m\u001b[0m\u001b[0;34m\u001b[0m\u001b[0m\n\u001b[1;32m    718\u001b[0m             \u001b[0merror_class\u001b[0m \u001b[0;34m=\u001b[0m \u001b[0mself\u001b[0m\u001b[0;34m.\u001b[0m\u001b[0mexceptions\u001b[0m\u001b[0;34m.\u001b[0m\u001b[0mfrom_code\u001b[0m\u001b[0;34m(\u001b[0m\u001b[0merror_code\u001b[0m\u001b[0;34m)\u001b[0m\u001b[0;34m\u001b[0m\u001b[0;34m\u001b[0m\u001b[0m\n\u001b[0;32m--> 719\u001b[0;31m             \u001b[0;32mraise\u001b[0m \u001b[0merror_class\u001b[0m\u001b[0;34m(\u001b[0m\u001b[0mparsed_response\u001b[0m\u001b[0;34m,\u001b[0m \u001b[0moperation_name\u001b[0m\u001b[0;34m)\u001b[0m\u001b[0;34m\u001b[0m\u001b[0;34m\u001b[0m\u001b[0m\n\u001b[0m\u001b[1;32m    720\u001b[0m         \u001b[0;32melse\u001b[0m\u001b[0;34m:\u001b[0m\u001b[0;34m\u001b[0m\u001b[0;34m\u001b[0m\u001b[0m\n\u001b[1;32m    721\u001b[0m             \u001b[0;32mreturn\u001b[0m \u001b[0mparsed_response\u001b[0m\u001b[0;34m\u001b[0m\u001b[0;34m\u001b[0m\u001b[0m\n",
      "\u001b[0;31mClientError\u001b[0m: An error occurred (ValidationException) when calling the DeleteEndpoint operation: Could not find endpoint \"arn:aws:sagemaker:us-east-2:746012564509:endpoint/fraudmodelendpointxgbautotuner-xgb\"."
     ]
    }
   ],
   "source": [
    "\n",
    "'''\n",
    "#DON'T RUN THIS\n",
    "'''\n",
    "\n",
    "\n",
    "import sagemaker\n",
    "\n",
    "sagemaker.Session().delete_endpoint(predictor_tuner.endpoint)"
   ]
  },
  {
   "cell_type": "code",
   "execution_count": null,
   "id": "e03cd883",
   "metadata": {},
   "outputs": [],
   "source": []
  }
 ],
 "metadata": {
  "kernelspec": {
   "display_name": "conda_python3",
   "language": "python",
   "name": "conda_python3"
  },
  "language_info": {
   "codemirror_mode": {
    "name": "ipython",
    "version": 3
   },
   "file_extension": ".py",
   "mimetype": "text/x-python",
   "name": "python",
   "nbconvert_exporter": "python",
   "pygments_lexer": "ipython3",
   "version": "3.6.13"
  }
 },
 "nbformat": 4,
 "nbformat_minor": 5
}
